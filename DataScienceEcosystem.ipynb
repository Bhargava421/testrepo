{
 "cells": [
  {
   "cell_type": "markdown",
   "id": "d2b5a661-d88f-4677-b06b-e61c0878de29",
   "metadata": {},
   "source": [
    "\n",
    "# Data Science Tools and Ecosystem\n"
   ]
  },
  {
   "cell_type": "markdown",
   "id": "70c15647-d6c4-46ce-abf7-fa084c421230",
   "metadata": {},
   "source": [
    "In this notebook, Data Science Tools and Ecosystem are summarized."
   ]
  },
  {
   "cell_type": "markdown",
   "id": "7987c7ea-9ba4-467c-b14d-276bdd8dbff2",
   "metadata": {},
   "source": [
    "Some of the popular languages that Data Scientists use are:\n",
    "1. Python\n",
    "2. R\n",
    "3. C++\n",
    "4. SQL\n"
   ]
  },
  {
   "cell_type": "markdown",
   "id": "b2a877b6-2659-41e4-874f-32e88db46ac1",
   "metadata": {},
   "source": [
    "Some of the commonly used libraries used by Data Scientists include :\n",
    "1. TensorFlow.\n",
    "2. Pandas.\n",
    "3. NumPy.\n",
    "4. SciPy.\n",
    "5. PyTorch."
   ]
  },
  {
   "cell_type": "markdown",
   "id": "804966b3-a6a4-4f82-8a2d-8683de986990",
   "metadata": {},
   "source": [
    "|Data Science Tools|\n",
    "|---|\n",
    "|TensorFlow|\n",
    "|SAS|\n",
    "|Apache Hadoop|\n",
    "|Jupyter"
   ]
  },
  {
   "cell_type": "markdown",
   "id": "52c4784b-44d3-4c46-99fc-e0f7a35d3d44",
   "metadata": {},
   "source": [
    "\n",
    "### Below are a few examples of evaluating arithmetic expressions in Python"
   ]
  },
  {
   "cell_type": "code",
   "execution_count": 6,
   "id": "b36d2e64-e6de-427b-b589-c85617f49ea3",
   "metadata": {},
   "outputs": [
    {
     "data": {
      "text/plain": [
       "17"
      ]
     },
     "execution_count": 6,
     "metadata": {},
     "output_type": "execute_result"
    }
   ],
   "source": [
    "#This a simple arithmetic expression to mutiply then add integers\n",
    "(3*4)+5\n"
   ]
  },
  {
   "cell_type": "code",
   "execution_count": 7,
   "id": "103ce3fd-5283-4145-9955-ff52aa703ab9",
   "metadata": {},
   "outputs": [
    {
     "data": {
      "text/plain": [
       "3.3333333333333335"
      ]
     },
     "execution_count": 7,
     "metadata": {},
     "output_type": "execute_result"
    }
   ],
   "source": [
    "#This will convert 200 minutes to hours by diving by 60\n",
    "200/60"
   ]
  },
  {
   "cell_type": "markdown",
   "id": "f5051060-f995-4f5d-9590-47161511b2e4",
   "metadata": {},
   "source": [
    "__Objectives:__\n",
    "* List popular languages for Data Science\n",
    "* List popular libraries for Data Science\n",
    "* List of popular Data Science Tools\n",
    "* To solve arithmetic expression\n",
    "  "
   ]
  },
  {
   "cell_type": "markdown",
   "id": "9393ec2d-4205-44fb-a850-6f0599f89458",
   "metadata": {},
   "source": [
    "## Author\n",
    "Bhargava C Salian"
   ]
  },
  {
   "cell_type": "code",
   "execution_count": null,
   "id": "b1ba119c-d0dc-432e-8fb9-d03ad6114a98",
   "metadata": {},
   "outputs": [],
   "source": []
  }
 ],
 "metadata": {
  "kernelspec": {
   "display_name": "Python 3 (ipykernel)",
   "language": "python",
   "name": "python3"
  },
  "language_info": {
   "codemirror_mode": {
    "name": "ipython",
    "version": 3
   },
   "file_extension": ".py",
   "mimetype": "text/x-python",
   "name": "python",
   "nbconvert_exporter": "python",
   "pygments_lexer": "ipython3",
   "version": "3.12.1"
  }
 },
 "nbformat": 4,
 "nbformat_minor": 5
}
